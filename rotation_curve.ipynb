{
 "cells": [
  {
   "cell_type": "code",
   "execution_count": 1,
   "id": "0f72cd2e-5100-4359-84c8-2e3c156570fc",
   "metadata": {},
   "outputs": [],
   "source": [
    "from velocity import get\n",
    "from velocity.velocity_data import particle_type\n",
    "from velocity.velocity_data import dm_mass\n",
    "from velocity.velocity_data import find_circ_vel\n",
    "from velocity.velocity_data import star_pos_vel\n",
    "import matplotlib.pyplot as plt\n",
    "import numpy as np\n",
    "from pathlib import Path"
   ]
  },
  {
   "cell_type": "code",
   "execution_count": 2,
   "id": "c369374f-8a61-4bec-86f7-ea8905ae6a0d",
   "metadata": {
    "tags": []
   },
   "outputs": [],
   "source": [
    "r,vel_circ = find_circ_vel()"
   ]
  },
  {
   "cell_type": "code",
   "execution_count": 3,
   "id": "db3ce0d8-0aaa-46bb-9c7e-d8ff67b1cc53",
   "metadata": {
    "tags": []
   },
   "outputs": [
    {
     "data": {
      "image/png": "[encoded data removed]",
      "text/plain": [
       "<Figure size 432x288 with 1 Axes>"
      ]
     },
     "metadata": {
      "needs_background": "light"
     },
     "output_type": "display_data"
    }
   ],
   "source": [
    "plt.plot(r,vel_circ, label = \"v_circ\")\n",
    "\n",
    "plt.legend()\n",
    "\n",
    "plt.xlabel(\"Radius (kpc)\")\n",
    "plt.ylabel(\"Orbital Speed (km/s)\")\n",
    "plt.title(\"Orbital Speed vs Radius\")\n",
    "plt.savefig(\"OrbitalVel_tot.png\",dpi=200)\n",
    "\n",
    "plt.show()"
   ]
  },
  {
   "cell_type": "code",
   "execution_count": null,
   "id": "7d1101ec-36a0-40a9-be6f-7a76f767603b",
   "metadata": {},
   "outputs": [],
   "source": [
    "pos,vel_raw,star_masses = star_pos_vel()"
   ]
  },
  {
   "cell_type": "markdown",
   "id": "4977845f-e4f6-45a9-a946-d52d5036252e",
   "metadata": {},
   "source": [
    "Galaxy Angular Momentum"
   ]
  },
  {
   "cell_type": "code",
   "execution_count": null,
   "id": "e5f82611-db2b-4809-862e-a517735a0703",
   "metadata": {
    "tags": []
   },
   "outputs": [],
   "source": [
    "radius = np.sqrt(pos[:,0]**2 + pos[:,1]**2 + pos[:,2]**2)\n",
    "stars_select = np.where(radius < 30)[0]\n",
    "vel = np.array((vel_raw[stars_select, 0], vel_raw[stars_select, 1], vel_raw[stars_select, 2])).T\n",
    "rad = np.array((pos[stars_select, 0], pos[stars_select, 1], pos[stars_select, 2])).T\n",
    "mass = np.array((star_masses[stars_select],star_masses[stars_select],star_masses[stars_select])).T\n",
    "print(np.shape(mass),mass)"
   ]
  },
  {
   "cell_type": "code",
   "execution_count": null,
   "id": "590d05aa-30f3-4872-beb1-0f72ae613519",
   "metadata": {},
   "outputs": [],
   "source": [
    "J_raw = mass*(np.cross(rad,vel))\n",
    "\n",
    "J = np.sum(J_raw,axis=0)\n",
    "\n",
    "print(J)\n",
    "\n",
    "J_mag = np.dot(J,J)\n",
    "\n",
    "print(J_mag)"
   ]
  },
  {
   "cell_type": "code",
   "execution_count": null,
   "id": "6b750421-8b41-423b-8080-8bfd7d6e33ab",
   "metadata": {},
   "outputs": [],
   "source": [
    "#still needs to be reworked into array format\n"
   ]
  },
  {
   "cell_type": "markdown",
   "id": "45ae24cc-4e19-4c15-9247-fd20d9990a91",
   "metadata": {},
   "source": [
    "Vertical Unit Vector"
   ]
  },
  {
   "cell_type": "code",
   "execution_count": null,
   "id": "c12c7eba-b77d-4467-ba11-edfc390d683b",
   "metadata": {
    "tags": []
   },
   "outputs": [],
   "source": [
    "n_j = J/J_mag\n",
    "\n",
    "print(n_j)"
   ]
  },
  {
   "cell_type": "markdown",
   "id": "3d593640-af83-4298-b077-255c0d80b482",
   "metadata": {
    "tags": []
   },
   "source": [
    "2d Radius and Radial Unit Vector"
   ]
  },
  {
   "cell_type": "code",
   "execution_count": null,
   "id": "9bb67151-fb2e-4957-a9cd-5118a1faab11",
   "metadata": {},
   "outputs": [],
   "source": [
    "r_2d_sub = np.dot(rad,n_j.T)\n",
    "rad_test = rad.T\n",
    "#print(r_2d_sub,np.shape(r_2d_sub), rad_test[0],np.shape(rad_test[0]))\n",
    "r_2d = np.array((rad_test[0] - r_2d_sub,rad_test[1] - r_2d_sub,rad_test[2] - r_2d_sub))\n",
    "#print(r_2d)\n",
    "\n",
    "r_2d_mag = np.dot(r_2d,r_2d)\n",
    "\n",
    "print(r_2d_mag,r_2d.T)\n",
    "n_r = np.array((r_2d[0]/r_2d_mag,r_2d[1]/r_2d_mag,r_2d[2]/r_2d_mag))"
   ]
  },
  {
   "cell_type": "markdown",
   "id": "b8b482f0-3320-4889-88ac-14647bf96045",
   "metadata": {},
   "source": [
    "Rotational Unit Vector"
   ]
  },
  {
   "cell_type": "code",
   "execution_count": null,
   "id": "f2e751ad-6eb3-44c9-a8e7-0b41400afe17",
   "metadata": {},
   "outputs": [],
   "source": [
    "n_phi = np.cross(n_j,n_r)"
   ]
  },
  {
   "cell_type": "markdown",
   "id": "11071ebf-15e4-4e1b-84b7-32a07ccc37ef",
   "metadata": {},
   "source": [
    "Galaxy Reference Frame Velocities"
   ]
  },
  {
   "cell_type": "code",
   "execution_count": null,
   "id": "e0bf2c1a-18a3-4861-a205-89dc13d68bf6",
   "metadata": {},
   "outputs": [],
   "source": [
    "#v_phi = np.dot(vel,n_phi)\n",
    "#v_r = np.dot(vel,n_r)\n",
    "v_j = np.dot(vel,n_j)"
   ]
  },
  {
   "cell_type": "code",
   "execution_count": null,
   "id": "95a6fb20-1a1b-4321-9311-a42dc3d1e2c0",
   "metadata": {},
   "outputs": [],
   "source": [
    "v_final = np.dot(vel,vel) - v_r**2 - v_j**2\n"
   ]
  },
  {
   "cell_type": "code",
   "execution_count": null,
   "id": "5c08d92e-9641-4582-84dd-6cbd481aa096",
   "metadata": {},
   "outputs": [],
   "source": [
    "#scipy interpolate the vel_circ\n",
    "from scipy import interpolate\n",
    "\n",
    "f = interpolate.interp1d(r, vel_circ)\n",
    "\n",
    "new_v_circ = f(rad)\n",
    "print(np.shape(new_v_circ))\n",
    "print(len(r),len(rad))"
   ]
  },
  {
   "cell_type": "markdown",
   "id": "830b0ad8-99c9-4469-bd6f-4255775cbafa",
   "metadata": {},
   "source": [
    "Epsilon"
   ]
  },
  {
   "cell_type": "code",
   "execution_count": null,
   "id": "c3ca437a-26d4-4b4b-bf89-d048f720cbd1",
   "metadata": {},
   "outputs": [],
   "source": [
    "e_v = J[2]/(r*vel_circ)\n",
    "\n",
    "print(J,(r*vel_circ))\n",
    "\n",
    "e_v_final, y = np.histogram(e_v)\n",
    "\n",
    "y_final = (y[1:]+y[:-1])/2\n",
    "\n",
    "\n",
    "plt.plot(e_v_final, y_final, label = \"epsilon\")\n",
    "\n",
    "plt.legend()\n",
    "\n",
    "plt.show()"
   ]
  },
  {
   "cell_type": "markdown",
   "id": "0f32877a-5ac0-41c0-80d2-a818d8cb12ce",
   "metadata": {},
   "source": [
    "Radial Velocity"
   ]
  },
  {
   "cell_type": "code",
   "execution_count": null,
   "id": "7ed7c09b-758f-4abb-9cbd-162721670381",
   "metadata": {},
   "outputs": [],
   "source": [
    "import requests\n",
    "from scipy import stats\n",
    "import h5py\n",
    "import numpy as np\n",
    "from velocity import get\n",
    "\n",
    "\n",
    "\n",
    "vr,rr,num = stats.binned_statistic(r_new,v_final,statistic='sum',bins=np.linspace(0,30,50))\n",
    "        \n",
    "r_final = (rr[1:]+rr[:-1])/2\n",
    "#plt.plot(r,vel_circ, label = \"v_circ\")\n",
    "plt.plot(r_final[30:],vr[30:], label = \"v_r\")\n",
    "\n",
    "plt.legend()\n",
    "\n",
    "plt.xlabel(\"Radius (kpc)\")\n",
    "plt.ylabel(\"Orbital Speed (km/s)\")\n",
    "plt.title(\"Orbital Speed vs Radius\")\n",
    "#plt.savefig(\"OrbitalVel_tot.png\",dpi=200)\n",
    "\n",
    "plt.show()"
   ]
  }
 ],
 "metadata": {
  "kernelspec": {
   "display_name": "Python 3",
   "language": "python",
   "name": "python3"
  },
  "language_info": {
   "codemirror_mode": {
    "name": "ipython",
    "version": 3
   },
   "file_extension": ".py",
   "mimetype": "text/x-python",
   "name": "python",
   "nbconvert_exporter": "python",
   "pygments_lexer": "ipython3",
   "version": "3.6.13"
  }
 },
 "nbformat": 4,
 "nbformat_minor": 5
}
